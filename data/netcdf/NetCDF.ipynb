{
 "cells": [
  {
   "cell_type": "code",
   "execution_count": null,
   "source": [
    "import numpy as np\n",
    "import pandas as pd\n",
    "from netCDF4 import Dataset\n",
    "import seaborn as sns\n",
    "from matplotlib.colors import LinearSegmentedColormap\n",
    "import matplotlib.pyplot as plt\n",
    "%matplotlib notebook"
   ],
   "outputs": [],
   "metadata": {}
  },
  {
   "cell_type": "code",
   "execution_count": null,
   "source": [
    "import matplotlib.colors as mcolors\n",
    "to_rgb = mcolors.ColorConverter().to_rgb\n",
    "# d = {\n",
    "#     0.0: 'blue', \n",
    "#     0.2: 'cyan', \n",
    "#     0.4: 'yellow', \n",
    "#     0.5: 'orange', \n",
    "#     0.7: 'red', \n",
    "#     0.9: (0.5, 0, 0),\n",
    "#     1.0: (0.4, 0, 0)\n",
    "# }\n",
    "d = {\n",
    "    0.0: (0.4, 0, 0),\n",
    "    0.2: (0.5, 0, 0),\n",
    "    0.4: 'red',\n",
    "    0.5: 'orange',\n",
    "    0.7: 'yellow',\n",
    "    0.9: 'cyan',\n",
    "    1.0: \"blue\"\n",
    "}\n",
    "\n",
    "def create_cmap(points):\n",
    "    red, green, blue = [], [], []\n",
    "    for idx, color in points.items():\n",
    "        r, g, b = to_rgb(color) if type(color)==str else color\n",
    "        red.append([idx, r, r])\n",
    "        green.append([idx, g, g])\n",
    "        blue.append([idx, b, b])\n",
    "    red.append([1,0.2,0])\n",
    "    green.append([1,0,0])\n",
    "    blue.append([1,0,0])\n",
    "    \n",
    "    return { 'red': red, 'green': green, 'blue': blue}\n",
    "\n",
    "newcmp = LinearSegmentedColormap('testCmap', segmentdata=create_cmap(d), N=256)\n",
    "newcmp"
   ],
   "outputs": [],
   "metadata": {}
  },
  {
   "cell_type": "code",
   "execution_count": null,
   "source": [
    "# Read dataset\n",
    "dataset = Dataset(r'Mercator_20210315_20210318.nc')\n",
    "dataset"
   ],
   "outputs": [],
   "metadata": {}
  },
  {
   "cell_type": "code",
   "execution_count": null,
   "source": [
    "import os\r\n",
    "os.getcwd()"
   ],
   "outputs": [],
   "metadata": {}
  },
  {
   "cell_type": "code",
   "execution_count": null,
   "source": [
    "# Get time data\r\n",
    "time = np.array(dataset.variables['time'])\r\n",
    "time"
   ],
   "outputs": [],
   "metadata": {}
  },
  {
   "cell_type": "code",
   "execution_count": null,
   "source": [
    "# Get depth data\r\n",
    "depth = np.array(dataset.variables['depth'][:])\r\n",
    "depth"
   ],
   "outputs": [],
   "metadata": {}
  },
  {
   "cell_type": "code",
   "execution_count": null,
   "source": [
    "# Get latitide data\r\n",
    "latitude = np.array(dataset.variables['latitude'])\r\n",
    "latitude"
   ],
   "outputs": [],
   "metadata": {}
  },
  {
   "cell_type": "code",
   "execution_count": null,
   "source": [
    "# Get longitude data\r\n",
    "longitude = np.array(dataset.variables['longitude'])\r\n",
    "longitude"
   ],
   "outputs": [],
   "metadata": {}
  },
  {
   "cell_type": "markdown",
   "source": [
    "## Temperatura"
   ],
   "metadata": {}
  },
  {
   "cell_type": "code",
   "execution_count": null,
   "source": [
    "# Get temperature data from specific time and depth\r\n",
    "temp_data = dataset.variables['thetao'][:]\r\n",
    "temp = temp_data[0][0]\r\n",
    "temp"
   ],
   "outputs": [],
   "metadata": {}
  },
  {
   "cell_type": "code",
   "execution_count": null,
   "source": [
    "# Temperatura\r\n",
    "df = pd.DataFrame(temp, index=latitude, columns=longitude)\r\n",
    "df = df.sort_index(ascending=False)\r\n",
    "\r\n",
    "txt = 'var temperature = ['\r\n",
    "for row, row_data in df.iterrows():\r\n",
    "    for col, data in row_data.iteritems():\r\n",
    "        if (not pd.isnull(data)):\r\n",
    "            txt += '[%f, %f, %f],\\n' % (row, col, data)\r\n",
    "txt += ']'\r\n",
    "\r\n",
    "with open('temperature.js', 'w') as f:\r\n",
    "    f.write(txt)\r\n",
    "\r\n",
    "plt.title('Temperature')\r\n",
    "sns.heatmap(df, cmap=newcmp)"
   ],
   "outputs": [],
   "metadata": {}
  },
  {
   "cell_type": "markdown",
   "source": [
    "## Salinidade"
   ],
   "metadata": {}
  },
  {
   "cell_type": "code",
   "execution_count": null,
   "source": [
    "# Get temperature data from specific time and depth\r\n",
    "sal_data = dataset.variables['so'][:]\r\n",
    "sal = sal_data[0][0]\r\n",
    "sal"
   ],
   "outputs": [],
   "metadata": {}
  },
  {
   "cell_type": "code",
   "execution_count": null,
   "source": [
    "# Salinidade\r\n",
    "df = pd.DataFrame(sal, index=latitude, columns=longitude)\r\n",
    "df = df.sort_index(ascending=False)\r\n",
    "\r\n",
    "txt = 'var salinity = ['\r\n",
    "for row, row_data in df.iterrows():\r\n",
    "    for col, data in row_data.iteritems():\r\n",
    "        if (not pd.isnull(data)):\r\n",
    "            txt += '[%f, %f, %f],\\n' % (row, col, data)\r\n",
    "txt += ']'\r\n",
    "\r\n",
    "with open('salinity.js', 'w') as f:\r\n",
    "    f.write(txt)\r\n",
    "\r\n",
    "plt.title('Salinity')\r\n",
    "sns.heatmap(df, cmap=newcmp)"
   ],
   "outputs": [],
   "metadata": {}
  },
  {
   "cell_type": "markdown",
   "source": [
    "## Wind"
   ],
   "metadata": {}
  },
  {
   "cell_type": "code",
   "execution_count": null,
   "source": [
    "# Get u\r\n",
    "u_data = dataset.variables['uo'][:]\r\n",
    "u = u_data[0][0]\r\n",
    "u"
   ],
   "outputs": [],
   "metadata": {}
  },
  {
   "cell_type": "code",
   "execution_count": null,
   "source": [
    "# U\r\n",
    "dfu = pd.DataFrame(u, index=latitude, columns=longitude)\r\n",
    "dfu = dfu.sort_index(ascending=False)\r\n",
    "# dfu = dfv.fillna(-99)\r\n",
    "dfu"
   ],
   "outputs": [],
   "metadata": {
    "scrolled": true
   }
  },
  {
   "cell_type": "code",
   "execution_count": null,
   "source": [
    "# Get v\r\n",
    "v_data = dataset.variables['vo'][:]\r\n",
    "v = v_data[0][0]\r\n",
    "v"
   ],
   "outputs": [],
   "metadata": {
    "scrolled": true
   }
  },
  {
   "cell_type": "code",
   "execution_count": null,
   "source": [
    "# V\r\n",
    "dfv = pd.DataFrame(v, index=latitude, columns=longitude)\r\n",
    "dfv = dfv.sort_index(ascending=False)\r\n",
    "# dfv = dfv.fillna(-99)\r\n",
    "dfv"
   ],
   "outputs": [],
   "metadata": {}
  },
  {
   "cell_type": "code",
   "execution_count": null,
   "source": [
    "x = df.columns.values\r\n",
    "y = df.index.values\r\n",
    "\r\n",
    "fig, ax = plt.subplots()\r\n",
    "q = ax.quiver(x, y, dfu.values, dfv.values)\r\n",
    "ax.quiverkey(q, X=0.3, Y=1.1, U=0.5,\r\n",
    "             label='Quiver key, length = 0.5', labelpos='E')"
   ],
   "outputs": [],
   "metadata": {}
  },
  {
   "cell_type": "code",
   "execution_count": null,
   "source": [
    "import json\r\n",
    "# Criar arquivo de saida\r\n",
    "nx = len(x)\r\n",
    "ny = len(y)\r\n",
    "dx = float(np.diff(longitude).mean())\r\n",
    "dy = float(np.diff(latitude).mean())\r\n",
    "tot = nx*ny\r\n",
    "la1,la2 = float(max(latitude)), float(min(latitude))\r\n",
    "lo1,lo2 = float(min(longitude)), float(max(longitude))\r\n",
    "udata = np.nan_to_num(dfu.values.flatten()*10)\r\n",
    "vdata = np.nan_to_num(dfv.values.flatten()*10)\r\n",
    "\r\n",
    "wind_data = [{\r\n",
    "  \"header\": {\r\n",
    "    \"parameterNumberName\": \"eastward_wind\",\r\n",
    "    \"parameterUnit\": \"m.s-1\",\r\n",
    "    \"parameterNumber\": 2,\r\n",
    "    \"parameterCategory\": 2,\r\n",
    "    \"nx\": nx,\r\n",
    "    \"ny\": ny,\r\n",
    "    \"numberPoints\": tot,\r\n",
    "    \"dx\": dx,\r\n",
    "    \"dy\": dy,\r\n",
    "    \"la1\": la1,\r\n",
    "    \"lo1\": lo1,\r\n",
    "    \"la2\": la2,\r\n",
    "    \"lo2\": lo2,\r\n",
    "#     \"refTime\": \"2017-02-01 23:00:00\"\r\n",
    "  },\r\n",
    "  \"data\": list(udata)\r\n",
    "}, {\r\n",
    "  \"header\": {\r\n",
    "    \"parameterNumberName\": \"northward_wind\",\r\n",
    "    \"parameterUnit\": \"m.s-1\",\r\n",
    "    \"parameterNumber\": 3,\r\n",
    "    \"parameterCategory\": 2,\r\n",
    "    \"nx\": nx,\r\n",
    "    \"ny\": ny,\r\n",
    "    \"numberPoints\": tot,\r\n",
    "    \"dx\": dx,\r\n",
    "    \"dy\": dy,\r\n",
    "    \"la1\": la1,\r\n",
    "    \"lo1\": lo1,\r\n",
    "    \"la2\": la2,\r\n",
    "    \"lo2\": lo2,\r\n",
    "#     \"refTime\": \"2017-02-01 23:00:00\"\r\n",
    "  },\r\n",
    "  \"data\": list(vdata)\r\n",
    "}]\r\n",
    "\r\n",
    "with open('wind.json', 'w') as outfile:\r\n",
    "    json.dump(wind_data, outfile, separators=(',', ':'), indent=4)"
   ],
   "outputs": [],
   "metadata": {}
  },
  {
   "cell_type": "code",
   "execution_count": null,
   "source": [],
   "outputs": [],
   "metadata": {}
  }
 ],
 "metadata": {
  "interpreter": {
   "hash": "b0fa6594d8f4cbf19f97940f81e996739fb7646882a419484c72d19e05852a7e"
  },
  "kernelspec": {
   "name": "python3",
   "display_name": "Python 3.9.7 64-bit"
  },
  "language_info": {
   "codemirror_mode": {
    "name": "ipython",
    "version": 3
   },
   "file_extension": ".py",
   "mimetype": "text/x-python",
   "name": "python",
   "nbconvert_exporter": "python",
   "pygments_lexer": "ipython3",
   "version": "3.9.7"
  }
 },
 "nbformat": 4,
 "nbformat_minor": 5
}